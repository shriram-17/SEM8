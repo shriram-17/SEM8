{
 "cells": [
  {
   "cell_type": "code",
   "execution_count": 3,
   "id": "2e6b730f",
   "metadata": {},
   "outputs": [
    {
     "name": "stdout",
     "output_type": "stream",
     "text": [
      "Hello\n"
     ]
    }
   ],
   "source": [
    "print(\"Hello\")"
   ]
  },
  {
   "cell_type": "code",
   "execution_count": 11,
   "id": "da5bc1d3",
   "metadata": {},
   "outputs": [
    {
     "name": "stdout",
     "output_type": "stream",
     "text": [
      "Requirement already satisfied: python-magic in c:\\programdata\\anaconda3\\lib\\site-packages (0.4.27)\n",
      "Requirement already satisfied: libmagic in c:\\programdata\\anaconda3\\lib\\site-packages (1.0)\n",
      "Collecting python-magic-bin\n",
      "  Downloading python_magic_bin-0.4.14-py2.py3-none-win_amd64.whl (409 kB)\n",
      "Installing collected packages: python-magic-bin\n",
      "Successfully installed python-magic-bin-0.4.14\n"
     ]
    }
   ],
   "source": [
    "!pip install python-magic\n",
    "!pip install libmagic\n",
    "!pip install python-magic-bin"
   ]
  },
  {
   "cell_type": "code",
   "execution_count": 14,
   "id": "99356bf6",
   "metadata": {},
   "outputs": [
    {
     "name": "stdout",
     "output_type": "stream",
     "text": [
      "dewsample-jpeg.jpeg=== JPEG image data, JFIF standard 1.01, resolution (DPI), density 72x72, segment length 16, progressive, precision 8, 640x427, frames 3\n"
     ]
    }
   ],
   "source": [
    "import magic\n",
    "\n",
    "print(\"dewsample-jpeg.jpeg===\",magic.from_file(\"dwsample-jpeg-640.jpeg\"))\n"
   ]
  },
  {
   "cell_type": "code",
   "execution_count": null,
   "id": "01fcd8dc",
   "metadata": {},
   "outputs": [],
   "source": []
  }
 ],
 "metadata": {
  "kernelspec": {
   "display_name": "Python 3 (ipykernel)",
   "language": "python",
   "name": "python3"
  },
  "language_info": {
   "codemirror_mode": {
    "name": "ipython",
    "version": 3
   },
   "file_extension": ".py",
   "mimetype": "text/x-python",
   "name": "python",
   "nbconvert_exporter": "python",
   "pygments_lexer": "ipython3",
   "version": "3.9.7"
  }
 },
 "nbformat": 4,
 "nbformat_minor": 5
}
