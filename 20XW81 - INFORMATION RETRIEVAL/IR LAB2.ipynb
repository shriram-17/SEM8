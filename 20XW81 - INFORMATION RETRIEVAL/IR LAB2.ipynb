{
 "cells": [
  {
   "cell_type": "code",
   "execution_count": 2,
   "id": "9f157a1f",
   "metadata": {},
   "outputs": [
    {
     "name": "stdout",
     "output_type": "stream",
     "text": [
      "Defaulting to user installation because normal site-packages is not writeable\n",
      "Requirement already satisfied: scikit-learn in c:\\programdata\\anaconda3\\lib\\site-packages (1.3.0)\n",
      "Requirement already satisfied: numpy>=1.17.3 in c:\\programdata\\anaconda3\\lib\\site-packages (from scikit-learn) (1.24.3)\n",
      "Requirement already satisfied: scipy>=1.5.0 in c:\\programdata\\anaconda3\\lib\\site-packages (from scikit-learn) (1.11.1)\n",
      "Requirement already satisfied: joblib>=1.1.1 in c:\\programdata\\anaconda3\\lib\\site-packages (from scikit-learn) (1.2.0)\n",
      "Requirement already satisfied: threadpoolctl>=2.0.0 in c:\\programdata\\anaconda3\\lib\\site-packages (from scikit-learn) (2.2.0)\n",
      "Defaulting to user installation because normal site-packages is not writeable\n",
      "Requirement already satisfied: nltk in c:\\programdata\\anaconda3\\lib\\site-packages (3.8.1)\n",
      "Requirement already satisfied: click in c:\\programdata\\anaconda3\\lib\\site-packages (from nltk) (8.0.4)\n",
      "Requirement already satisfied: joblib in c:\\programdata\\anaconda3\\lib\\site-packages (from nltk) (1.2.0)\n",
      "Requirement already satisfied: regex>=2021.8.3 in c:\\programdata\\anaconda3\\lib\\site-packages (from nltk) (2022.7.9)\n",
      "Requirement already satisfied: tqdm in c:\\programdata\\anaconda3\\lib\\site-packages (from nltk) (4.65.0)\n",
      "Requirement already satisfied: colorama in c:\\programdata\\anaconda3\\lib\\site-packages (from click->nltk) (0.4.6)\n"
     ]
    }
   ],
   "source": [
    "!pip install scikit-learn\n",
    "!pip install nltk"
   ]
  },
  {
   "cell_type": "code",
   "execution_count": 3,
   "id": "06ee258e",
   "metadata": {},
   "outputs": [
    {
     "name": "stderr",
     "output_type": "stream",
     "text": [
      "[nltk_data] Downloading package punkt to\n",
      "[nltk_data]     C:\\Users\\TEMP.CS2K16.000\\AppData\\Roaming\\nltk_data...\n",
      "[nltk_data]   Unzipping tokenizers\\punkt.zip.\n"
     ]
    }
   ],
   "source": [
    "import nltk\n",
    "from nltk.stem import PorterStemmer\n",
    "from nltk.tokenize import word_tokenize\n",
    "nltk.download('punkt')\n",
    "ps = PorterStemmer()"
   ]
  },
  {
   "cell_type": "code",
   "execution_count": 4,
   "id": "acc126c0",
   "metadata": {},
   "outputs": [
    {
     "data": {
      "text/plain": [
       "{'Doc1': 'You have been eyeing me all day and waiting for your move like a lion stalking a gazelle in a savannah',\n",
       " 'Doc2': 'The sun had set and so had his dreams',\n",
       " 'Doc3': 'Pat ordered a ghost pepper pie',\n",
       " 'Doc4': 'When transplanting seedlings candied teapots will make the task easier',\n",
       " 'Doc5': 'Do not step on the broken glass',\n",
       " 'Doc6': 'Behind the window was a reflection that only instilled fear',\n",
       " 'Doc7': 'Pair your designer cowboy hat with scuba gear for a memorable occasion'}"
      ]
     },
     "execution_count": 4,
     "metadata": {},
     "output_type": "execute_result"
    }
   ],
   "source": [
    "database={\"Doc1\":\"You have been eyeing me all day and waiting for your move like a lion stalking a gazelle in a savannah\",\n",
    "         \"Doc2\":\"The sun had set and so had his dreams\",\n",
    "         \"Doc3\":\"Pat ordered a ghost pepper pie\",\n",
    "         \"Doc4\":\"When transplanting seedlings candied teapots will make the task easier\",\n",
    "         \"Doc5\":\"Do not step on the broken glass\",\n",
    "         \"Doc6\":\"Behind the window was a reflection that only instilled fear\",\n",
    "         \"Doc7\":\"Pair your designer cowboy hat with scuba gear for a memorable occasion\"}\n",
    "database"
   ]
  },
  {
   "cell_type": "code",
   "execution_count": 35,
   "id": "2405deb4",
   "metadata": {},
   "outputs": [],
   "source": [
    "def remove_stopwords(database):\n",
    "    sample_database = {}\n",
    "    for title,content in zip(database.keys(),database.values()):\n",
    "        temp = []\n",
    "        for word in content:   \n",
    "            if word not in  [\"a\" ,\"and\",\"in\",\"the\"]:\n",
    "                temp.append(word)\n",
    "            sample_database[title] = temp\n",
    "    return sample_database"
   ]
  },
  {
   "cell_type": "code",
   "execution_count": 37,
   "id": "41016a3b",
   "metadata": {},
   "outputs": [],
   "source": [
    "def tokenize_words():\n",
    "    modified_database = {}\n",
    "    for title,content in zip(database.keys(),database.values()):\n",
    "        words = word_tokenize(content)    \n",
    "        temp = []\n",
    "        for w in words:\n",
    "            temp.append(ps.stem(w))\n",
    "            modified_database[title] = temp\n",
    "    return modifid_database"
   ]
  },
  {
   "cell_type": "code",
   "execution_count": 44,
   "id": "72d788e1",
   "metadata": {},
   "outputs": [],
   "source": [
    "def Transform_data(database):\n",
    "    indexes = []\n",
    "    for title,content in zip(database.keys(),database.values()):\n",
    "        dict = {}\n",
    "        counter = -1\n",
    "        for word in content:\n",
    "            dict[word]= counter + 1\n",
    "        indexes.append(dict)\n",
    "    return indexes\n",
    "def Termfrenquency(database):\n",
    "    for title,content in zip(database.keys(),database.values()):\n",
    "        print(title,content)"
   ]
  },
  {
   "cell_type": "code",
   "execution_count": 46,
   "id": "7657a50c",
   "metadata": {},
   "outputs": [
    {
     "data": {
      "text/plain": [
       "[{'you': 0,\n",
       "  'have': 0,\n",
       "  'been': 0,\n",
       "  'eye': 0,\n",
       "  'me': 0,\n",
       "  'all': 0,\n",
       "  'day': 0,\n",
       "  'and': 0,\n",
       "  'wait': 0,\n",
       "  'for': 0,\n",
       "  'your': 0,\n",
       "  'move': 0,\n",
       "  'like': 0,\n",
       "  'a': 0,\n",
       "  'lion': 0,\n",
       "  'stalk': 0,\n",
       "  'gazel': 0,\n",
       "  'in': 0,\n",
       "  'savannah': 0},\n",
       " {'the': 0,\n",
       "  'sun': 0,\n",
       "  'had': 0,\n",
       "  'set': 0,\n",
       "  'and': 0,\n",
       "  'so': 0,\n",
       "  'hi': 0,\n",
       "  'dream': 0},\n",
       " {'pat': 0, 'order': 0, 'a': 0, 'ghost': 0, 'pepper': 0, 'pie': 0},\n",
       " {'when': 0,\n",
       "  'transplant': 0,\n",
       "  'seedl': 0,\n",
       "  'candi': 0,\n",
       "  'teapot': 0,\n",
       "  'will': 0,\n",
       "  'make': 0,\n",
       "  'the': 0,\n",
       "  'task': 0,\n",
       "  'easier': 0},\n",
       " {'do': 0, 'not': 0, 'step': 0, 'on': 0, 'the': 0, 'broken': 0, 'glass': 0},\n",
       " {'behind': 0,\n",
       "  'the': 0,\n",
       "  'window': 0,\n",
       "  'wa': 0,\n",
       "  'a': 0,\n",
       "  'reflect': 0,\n",
       "  'that': 0,\n",
       "  'onli': 0,\n",
       "  'instil': 0,\n",
       "  'fear': 0},\n",
       " {'pair': 0,\n",
       "  'your': 0,\n",
       "  'design': 0,\n",
       "  'cowboy': 0,\n",
       "  'hat': 0,\n",
       "  'with': 0,\n",
       "  'scuba': 0,\n",
       "  'gear': 0,\n",
       "  'for': 0,\n",
       "  'a': 0,\n",
       "  'memor': 0,\n",
       "  'occas': 0}]"
      ]
     },
     "execution_count": 46,
     "metadata": {},
     "output_type": "execute_result"
    }
   ],
   "source": [
    "data = remove_stopwords(modified_database)\n",
    "indexs = Transform_data(modified_database)\n",
    "indexs"
   ]
  },
  {
   "cell_type": "code",
   "execution_count": null,
   "id": "d444a838",
   "metadata": {},
   "outputs": [],
   "source": []
  }
 ],
 "metadata": {
  "kernelspec": {
   "display_name": "Python 3 (ipykernel)",
   "language": "python",
   "name": "python3"
  },
  "language_info": {
   "codemirror_mode": {
    "name": "ipython",
    "version": 3
   },
   "file_extension": ".py",
   "mimetype": "text/x-python",
   "name": "python",
   "nbconvert_exporter": "python",
   "pygments_lexer": "ipython3",
   "version": "3.11.5"
  }
 },
 "nbformat": 4,
 "nbformat_minor": 5
}
