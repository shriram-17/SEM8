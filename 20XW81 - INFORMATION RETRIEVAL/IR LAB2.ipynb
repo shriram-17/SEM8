{
 "cells": [
  {
   "cell_type": "code",
   "execution_count": 13,
   "id": "9f157a1f",
   "metadata": {},
   "outputs": [
    {
     "name": "stdout",
     "output_type": "stream",
     "text": [
      "Defaulting to user installation because normal site-packages is not writeable\n",
      "Requirement already satisfied: scikit-learn in c:\\programdata\\anaconda3\\lib\\site-packages (1.3.0)\n",
      "Requirement already satisfied: numpy>=1.17.3 in c:\\programdata\\anaconda3\\lib\\site-packages (from scikit-learn) (1.24.3)\n",
      "Requirement already satisfied: scipy>=1.5.0 in c:\\programdata\\anaconda3\\lib\\site-packages (from scikit-learn) (1.11.1)\n",
      "Requirement already satisfied: joblib>=1.1.1 in c:\\programdata\\anaconda3\\lib\\site-packages (from scikit-learn) (1.2.0)\n",
      "Requirement already satisfied: threadpoolctl>=2.0.0 in c:\\programdata\\anaconda3\\lib\\site-packages (from scikit-learn) (2.2.0)\n",
      "Defaulting to user installation because normal site-packages is not writeable\n",
      "Requirement already satisfied: nltk in c:\\programdata\\anaconda3\\lib\\site-packages (3.8.1)\n",
      "Requirement already satisfied: click in c:\\programdata\\anaconda3\\lib\\site-packages (from nltk) (8.0.4)\n",
      "Requirement already satisfied: joblib in c:\\programdata\\anaconda3\\lib\\site-packages (from nltk) (1.2.0)\n",
      "Requirement already satisfied: regex>=2021.8.3 in c:\\programdata\\anaconda3\\lib\\site-packages (from nltk) (2022.7.9)\n",
      "Requirement already satisfied: tqdm in c:\\programdata\\anaconda3\\lib\\site-packages (from nltk) (4.65.0)\n",
      "Requirement already satisfied: colorama in c:\\programdata\\anaconda3\\lib\\site-packages (from click->nltk) (0.4.6)\n"
     ]
    }
   ],
   "source": [
    "!pip install scikit-learn\n",
    "!pip install nltk"
   ]
  },
  {
   "cell_type": "code",
   "execution_count": 18,
   "id": "06ee258e",
   "metadata": {},
   "outputs": [
    {
     "name": "stderr",
     "output_type": "stream",
     "text": [
      "[nltk_data] Downloading package punkt to\n",
      "[nltk_data]     C:\\Users\\TEMP.CS2K16\\AppData\\Roaming\\nltk_data...\n",
      "[nltk_data]   Unzipping tokenizers\\punkt.zip.\n"
     ]
    }
   ],
   "source": [
    "import nltk\n",
    "from nltk.stem import PorterStemmer\n",
    "from nltk.tokenize import word_tokenize\n",
    "nltk.download('punkt')\n",
    "ps = PorterStemmer()"
   ]
  },
  {
   "cell_type": "code",
   "execution_count": 38,
   "id": "acc126c0",
   "metadata": {},
   "outputs": [
    {
     "data": {
      "text/plain": [
       "{'Doc1': 'You have been eyeing me all day and waiting for your move like a lion stalking a gazelle in a savannah',\n",
       " 'Doc2': 'The sun had set and so had his dreams',\n",
       " 'Doc3': 'Pat ordered a ghost pepper pie',\n",
       " 'Doc4': 'When transplanting seedlings candied teapots will make the task easier',\n",
       " 'Doc5': 'Do not step on the broken glass',\n",
       " 'Doc6': 'Behind the window was a reflection that only instilled fear',\n",
       " 'Doc7': 'Pair your designer cowboy hat with scuba gear for a memorable occasion'}"
      ]
     },
     "execution_count": 38,
     "metadata": {},
     "output_type": "execute_result"
    }
   ],
   "source": [
    "database={\"Doc1\":\"You have been eyeing me all day and waiting for your move like a lion stalking a gazelle in a savannah\",\n",
    "         \"Doc2\":\"The sun had set and so had his dreams\",\n",
    "         \"Doc3\":\"Pat ordered a ghost pepper pie\",\n",
    "         \"Doc4\":\"When transplanting seedlings candied teapots will make the task easier\",\n",
    "         \"Doc5\":\"Do not step on the broken glass\",\n",
    "         \"Doc6\":\"Behind the window was a reflection that only instilled fear\",\n",
    "         \"Doc7\":\"Pair your designer cowboy hat with scuba gear for a memorable occasion\"}\n",
    "database"
   ]
  },
  {
   "cell_type": "code",
   "execution_count": 39,
   "id": "41016a3b",
   "metadata": {},
   "outputs": [
    {
     "data": {
      "text/plain": [
       "{'Doc1': ['you',\n",
       "  'have',\n",
       "  'been',\n",
       "  'eye',\n",
       "  'me',\n",
       "  'all',\n",
       "  'day',\n",
       "  'and',\n",
       "  'wait',\n",
       "  'for',\n",
       "  'your',\n",
       "  'move',\n",
       "  'like',\n",
       "  'a',\n",
       "  'lion',\n",
       "  'stalk',\n",
       "  'a',\n",
       "  'gazel',\n",
       "  'in',\n",
       "  'a',\n",
       "  'savannah'],\n",
       " 'Doc2': ['the', 'sun', 'had', 'set', 'and', 'so', 'had', 'hi', 'dream'],\n",
       " 'Doc3': ['pat', 'order', 'a', 'ghost', 'pepper', 'pie'],\n",
       " 'Doc4': ['when',\n",
       "  'transplant',\n",
       "  'seedl',\n",
       "  'candi',\n",
       "  'teapot',\n",
       "  'will',\n",
       "  'make',\n",
       "  'the',\n",
       "  'task',\n",
       "  'easier'],\n",
       " 'Doc5': ['do', 'not', 'step', 'on', 'the', 'broken', 'glass'],\n",
       " 'Doc6': ['behind',\n",
       "  'the',\n",
       "  'window',\n",
       "  'wa',\n",
       "  'a',\n",
       "  'reflect',\n",
       "  'that',\n",
       "  'onli',\n",
       "  'instil',\n",
       "  'fear'],\n",
       " 'Doc7': ['pair',\n",
       "  'your',\n",
       "  'design',\n",
       "  'cowboy',\n",
       "  'hat',\n",
       "  'with',\n",
       "  'scuba',\n",
       "  'gear',\n",
       "  'for',\n",
       "  'a',\n",
       "  'memor',\n",
       "  'occas']}"
      ]
     },
     "execution_count": 39,
     "metadata": {},
     "output_type": "execute_result"
    }
   ],
   "source": [
    "modified_database = {}\n",
    "for title,content in zip(database.keys(),database.values()):\n",
    "    words = word_tokenize(content)    \n",
    "    temp = []\n",
    "    for w in words:\n",
    "        temp.append(ps.stem(w))\n",
    "        modified_database[title] = temp\n",
    "modified_database"
   ]
  },
  {
   "cell_type": "code",
   "execution_count": 71,
   "id": "72d788e1",
   "metadata": {},
   "outputs": [],
   "source": [
    "def Termfrenquency(database):\n",
    "    for title,content in zip(database.keys(),database.values()):\n",
    "        for i in range(0,len(content)+1):\n",
    "            print(content[i])\n",
    "            for j in range(i,len(content)):\n",
    "                    count = 0\n",
    "                    if (content[i] == content[j]) :\n",
    "                            count = count + 1\n",
    "                    else:\n",
    "                            pass \n",
    "            print(len(content[i]))"
   ]
  },
  {
   "cell_type": "code",
   "execution_count": 72,
   "id": "7657a50c",
   "metadata": {},
   "outputs": [
    {
     "name": "stdout",
     "output_type": "stream",
     "text": [
      "you\n",
      "3\n",
      "have\n",
      "4\n",
      "been\n",
      "4\n",
      "eye\n",
      "3\n",
      "me\n",
      "2\n",
      "all\n",
      "3\n",
      "day\n",
      "3\n",
      "and\n",
      "3\n",
      "wait\n",
      "4\n",
      "for\n",
      "3\n",
      "your\n",
      "4\n",
      "move\n",
      "4\n",
      "like\n",
      "4\n",
      "a\n",
      "1\n",
      "lion\n",
      "4\n",
      "stalk\n",
      "5\n",
      "a\n",
      "1\n",
      "gazel\n",
      "5\n",
      "in\n",
      "2\n",
      "a\n",
      "1\n",
      "savannah\n",
      "8\n"
     ]
    },
    {
     "ename": "IndexError",
     "evalue": "list index out of range",
     "output_type": "error",
     "traceback": [
      "\u001b[1;31m---------------------------------------------------------------------------\u001b[0m",
      "\u001b[1;31mIndexError\u001b[0m                                Traceback (most recent call last)",
      "Cell \u001b[1;32mIn[72], line 1\u001b[0m\n\u001b[1;32m----> 1\u001b[0m Termfrenquency(modified_database)\n",
      "Cell \u001b[1;32mIn[71], line 4\u001b[0m, in \u001b[0;36mTermfrenquency\u001b[1;34m(database)\u001b[0m\n\u001b[0;32m      2\u001b[0m \u001b[38;5;28;01mfor\u001b[39;00m title,content \u001b[38;5;129;01min\u001b[39;00m \u001b[38;5;28mzip\u001b[39m(database\u001b[38;5;241m.\u001b[39mkeys(),database\u001b[38;5;241m.\u001b[39mvalues()):\n\u001b[0;32m      3\u001b[0m     \u001b[38;5;28;01mfor\u001b[39;00m i \u001b[38;5;129;01min\u001b[39;00m \u001b[38;5;28mrange\u001b[39m(\u001b[38;5;241m0\u001b[39m,\u001b[38;5;28mlen\u001b[39m(content)\u001b[38;5;241m+\u001b[39m\u001b[38;5;241m1\u001b[39m):\n\u001b[1;32m----> 4\u001b[0m         \u001b[38;5;28mprint\u001b[39m(content[i])\n\u001b[0;32m      5\u001b[0m         \u001b[38;5;28;01mfor\u001b[39;00m j \u001b[38;5;129;01min\u001b[39;00m \u001b[38;5;28mrange\u001b[39m(i,\u001b[38;5;28mlen\u001b[39m(content)):\n\u001b[0;32m      6\u001b[0m                 count \u001b[38;5;241m=\u001b[39m \u001b[38;5;241m0\u001b[39m\n",
      "\u001b[1;31mIndexError\u001b[0m: list index out of range"
     ]
    }
   ],
   "source": [
    "Termfrenquency(modified_database)"
   ]
  },
  {
   "cell_type": "code",
   "execution_count": null,
   "id": "d444a838",
   "metadata": {},
   "outputs": [],
   "source": []
  }
 ],
 "metadata": {
  "kernelspec": {
   "display_name": "Python 3 (ipykernel)",
   "language": "python",
   "name": "python3"
  },
  "language_info": {
   "codemirror_mode": {
    "name": "ipython",
    "version": 3
   },
   "file_extension": ".py",
   "mimetype": "text/x-python",
   "name": "python",
   "nbconvert_exporter": "python",
   "pygments_lexer": "ipython3",
   "version": "3.11.5"
  }
 },
 "nbformat": 4,
 "nbformat_minor": 5
}
