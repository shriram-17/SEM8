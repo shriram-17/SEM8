{
 "cells": [
  {
   "cell_type": "code",
   "execution_count": 14,
   "id": "412f0355",
   "metadata": {},
   "outputs": [],
   "source": [
    "import numpy as np\n",
    "import pandas as pd\n",
    "import random\n",
    "from scipy.spatial import distance"
   ]
  },
  {
   "cell_type": "code",
   "execution_count": null,
   "id": "507f14ec",
   "metadata": {},
   "outputs": [],
   "source": []
  },
  {
   "cell_type": "code",
   "execution_count": 15,
   "id": "1fb23d6c",
   "metadata": {},
   "outputs": [],
   "source": [
    "data = []\n",
    "for userId in range(1,12):\n",
    "    sample = {}\n",
    "    sample[\"userId\"] = userId\n",
    "    for i in arr:\n",
    "        sample[i] = random.choice([5,4,3,2,1,-1])\n",
    "    data.append(sample)"
   ]
  },
  {
   "cell_type": "code",
   "execution_count": 16,
   "id": "172e5bb3",
   "metadata": {},
   "outputs": [],
   "source": [
    "df = pd.DataFrame(data)"
   ]
  },
  {
   "cell_type": "code",
   "execution_count": 17,
   "id": "49523872",
   "metadata": {},
   "outputs": [
    {
     "data": {
      "text/html": [
       "<div>\n",
       "<style scoped>\n",
       "    .dataframe tbody tr th:only-of-type {\n",
       "        vertical-align: middle;\n",
       "    }\n",
       "\n",
       "    .dataframe tbody tr th {\n",
       "        vertical-align: top;\n",
       "    }\n",
       "\n",
       "    .dataframe thead th {\n",
       "        text-align: right;\n",
       "    }\n",
       "</style>\n",
       "<table border=\"1\" class=\"dataframe\">\n",
       "  <thead>\n",
       "    <tr style=\"text-align: right;\">\n",
       "      <th></th>\n",
       "      <th>userId</th>\n",
       "      <th>Toy Story (1995)</th>\n",
       "      <th>Grumpier Old Men (1995)</th>\n",
       "      <th>Heat (1995)</th>\n",
       "      <th>Seven (a.k.a. Se7en) (1995)</th>\n",
       "      <th>Usual Suspects, The (1995)</th>\n",
       "      <th>Forrest Gump (1994)</th>\n",
       "      <th>Star Wars (1977)</th>\n",
       "    </tr>\n",
       "  </thead>\n",
       "  <tbody>\n",
       "    <tr>\n",
       "      <th>0</th>\n",
       "      <td>1</td>\n",
       "      <td>5</td>\n",
       "      <td>2</td>\n",
       "      <td>3</td>\n",
       "      <td>5</td>\n",
       "      <td>1</td>\n",
       "      <td>4</td>\n",
       "      <td>5</td>\n",
       "    </tr>\n",
       "    <tr>\n",
       "      <th>1</th>\n",
       "      <td>2</td>\n",
       "      <td>4</td>\n",
       "      <td>2</td>\n",
       "      <td>2</td>\n",
       "      <td>-1</td>\n",
       "      <td>4</td>\n",
       "      <td>-1</td>\n",
       "      <td>-1</td>\n",
       "    </tr>\n",
       "    <tr>\n",
       "      <th>2</th>\n",
       "      <td>3</td>\n",
       "      <td>5</td>\n",
       "      <td>1</td>\n",
       "      <td>5</td>\n",
       "      <td>3</td>\n",
       "      <td>5</td>\n",
       "      <td>5</td>\n",
       "      <td>1</td>\n",
       "    </tr>\n",
       "    <tr>\n",
       "      <th>3</th>\n",
       "      <td>4</td>\n",
       "      <td>5</td>\n",
       "      <td>5</td>\n",
       "      <td>2</td>\n",
       "      <td>2</td>\n",
       "      <td>5</td>\n",
       "      <td>1</td>\n",
       "      <td>2</td>\n",
       "    </tr>\n",
       "    <tr>\n",
       "      <th>4</th>\n",
       "      <td>5</td>\n",
       "      <td>2</td>\n",
       "      <td>-1</td>\n",
       "      <td>-1</td>\n",
       "      <td>-1</td>\n",
       "      <td>2</td>\n",
       "      <td>1</td>\n",
       "      <td>5</td>\n",
       "    </tr>\n",
       "    <tr>\n",
       "      <th>5</th>\n",
       "      <td>6</td>\n",
       "      <td>-1</td>\n",
       "      <td>5</td>\n",
       "      <td>5</td>\n",
       "      <td>3</td>\n",
       "      <td>4</td>\n",
       "      <td>3</td>\n",
       "      <td>2</td>\n",
       "    </tr>\n",
       "    <tr>\n",
       "      <th>6</th>\n",
       "      <td>7</td>\n",
       "      <td>-1</td>\n",
       "      <td>2</td>\n",
       "      <td>-1</td>\n",
       "      <td>1</td>\n",
       "      <td>1</td>\n",
       "      <td>1</td>\n",
       "      <td>2</td>\n",
       "    </tr>\n",
       "    <tr>\n",
       "      <th>7</th>\n",
       "      <td>8</td>\n",
       "      <td>1</td>\n",
       "      <td>2</td>\n",
       "      <td>4</td>\n",
       "      <td>3</td>\n",
       "      <td>-1</td>\n",
       "      <td>5</td>\n",
       "      <td>2</td>\n",
       "    </tr>\n",
       "    <tr>\n",
       "      <th>8</th>\n",
       "      <td>9</td>\n",
       "      <td>-1</td>\n",
       "      <td>-1</td>\n",
       "      <td>1</td>\n",
       "      <td>-1</td>\n",
       "      <td>1</td>\n",
       "      <td>2</td>\n",
       "      <td>2</td>\n",
       "    </tr>\n",
       "    <tr>\n",
       "      <th>9</th>\n",
       "      <td>10</td>\n",
       "      <td>4</td>\n",
       "      <td>2</td>\n",
       "      <td>-1</td>\n",
       "      <td>2</td>\n",
       "      <td>3</td>\n",
       "      <td>4</td>\n",
       "      <td>-1</td>\n",
       "    </tr>\n",
       "    <tr>\n",
       "      <th>10</th>\n",
       "      <td>11</td>\n",
       "      <td>3</td>\n",
       "      <td>2</td>\n",
       "      <td>2</td>\n",
       "      <td>4</td>\n",
       "      <td>4</td>\n",
       "      <td>3</td>\n",
       "      <td>1</td>\n",
       "    </tr>\n",
       "  </tbody>\n",
       "</table>\n",
       "</div>"
      ],
      "text/plain": [
       "    userId  Toy Story (1995)  Grumpier Old Men (1995)  Heat (1995)  \\\n",
       "0        1                 5                        2            3   \n",
       "1        2                 4                        2            2   \n",
       "2        3                 5                        1            5   \n",
       "3        4                 5                        5            2   \n",
       "4        5                 2                       -1           -1   \n",
       "5        6                -1                        5            5   \n",
       "6        7                -1                        2           -1   \n",
       "7        8                 1                        2            4   \n",
       "8        9                -1                       -1            1   \n",
       "9       10                 4                        2           -1   \n",
       "10      11                 3                        2            2   \n",
       "\n",
       "    Seven (a.k.a. Se7en) (1995)  Usual Suspects, The (1995)  \\\n",
       "0                             5                           1   \n",
       "1                            -1                           4   \n",
       "2                             3                           5   \n",
       "3                             2                           5   \n",
       "4                            -1                           2   \n",
       "5                             3                           4   \n",
       "6                             1                           1   \n",
       "7                             3                          -1   \n",
       "8                            -1                           1   \n",
       "9                             2                           3   \n",
       "10                            4                           4   \n",
       "\n",
       "    Forrest Gump (1994)  Star Wars (1977)  \n",
       "0                     4                 5  \n",
       "1                    -1                -1  \n",
       "2                     5                 1  \n",
       "3                     1                 2  \n",
       "4                     1                 5  \n",
       "5                     3                 2  \n",
       "6                     1                 2  \n",
       "7                     5                 2  \n",
       "8                     2                 2  \n",
       "9                     4                -1  \n",
       "10                    3                 1  "
      ]
     },
     "execution_count": 17,
     "metadata": {},
     "output_type": "execute_result"
    }
   ],
   "source": [
    "df"
   ]
  },
  {
   "cell_type": "code",
   "execution_count": 18,
   "id": "7e8329b7",
   "metadata": {},
   "outputs": [],
   "source": [
    "arr = [\"Toy Story (1995)\",\"Grumpier Old Men (1995)\",\"Heat (1995)\",\"Seven (a.k.a. Se7en) (1995)\",\"Usual Suspects, The (1995)\",\"Forrest Gump (1994)\",\"Star Wars (1977)\"]"
   ]
  },
  {
   "cell_type": "code",
   "execution_count": 60,
   "id": "2392b319",
   "metadata": {},
   "outputs": [],
   "source": [
    "import itertools\n",
    "\n",
    "class RecSys:\n",
    "    def __init__(self, k, data, userId, type):\n",
    "        self.k = k\n",
    "        self.userId = userId\n",
    "        self.data = data\n",
    "        self.results = {}\n",
    "        self.top_k_results = {}\n",
    "        self.type = type\n",
    "\n",
    "    def preprocess(self):\n",
    "        modified_data = {}\n",
    "        if self.type == \"User\":\n",
    "            for index, user in enumerate(self.data):\n",
    "                values = list(user.values())\n",
    "                modified_data[index + 1] = values[1:]\n",
    "        elif self.type == \"Item\":\n",
    "            modified_data = {movie: [user[movie] for user in self.data] for movie in self.data[0] if movie != 'userId'}\n",
    "        self.modified_data = modified_data\n",
    "\n",
    "    def cosine_similarity(self, a, b):\n",
    "        return 1 - distance.cosine(a, b)\n",
    "\n",
    "    def calculate_distance(self):\n",
    "        self.preprocess()\n",
    "        results = {}\n",
    "        active_data = self.modified_data.pop(self.userId)\n",
    "        for otherId, otherData in self.modified_data.items():\n",
    "            indices_active_data = [index for index, value in enumerate(active_data) if value == -1]\n",
    "            indices_other_data = [index for index, value in enumerate(otherData) if value == -1]\n",
    "            union_indices = set(indices_active_data).union(indices_other_data)\n",
    "            active_data_new = [value for index, value in enumerate(active_data) if index not in union_indices]\n",
    "            other_data_new = [value for index, value in enumerate(otherData) if index not in union_indices]\n",
    "            results[otherId] = self.cosine_similarity(active_data_new, other_data_new)\n",
    "        self.results = results\n",
    "\n",
    "    def top_k(self):\n",
    "        self.calculate_distance()\n",
    "        sorted_results = {k: v for k, v in sorted(self.results.items(), key=lambda item: item[1], reverse=True)}\n",
    "        self.top_k_results = dict(itertools.islice(sorted_results.items(), self.k))\n",
    "        return self.top_k_results\n",
    "\n",
    "    def predict_rating(self,ItemName):\n",
    "        avg = {}\n",
    "        if self.type == \"User\":\n",
    "            for i,j in self.top_k_results.items():\n",
    "                if self.data[i-1][ItemName] == -1:\n",
    "                    pass\n",
    "                else:\n",
    "                    print(self.data[i-1])\n",
    "                    avg[j]= self.data[i-1][ItemName]\n",
    "        if self.type == \"Item\":\n",
    "            for i,j in self.top_k_results.items():\n",
    "                    print(i,j)\n",
    "                    if self.data[ItemName - 1][i] == -1:\n",
    "                        pass\n",
    "                    else:\n",
    "                        avg[j]= self.data[ItemName - 1][i]\n",
    "        print(avg)\n",
    "        weights = list(avg.keys())\n",
    "        values = list(avg.values())\n",
    "        weighted_avg = sum(w*v for w, v in zip(weights, values)) / sum(weights)\n",
    "        return weighted_avg\n"
   ]
  },
  {
   "cell_type": "code",
   "execution_count": 53,
   "id": "6f6bc197",
   "metadata": {},
   "outputs": [],
   "source": [
    "rs = RecSys(3,data,2,'User')"
   ]
  },
  {
   "cell_type": "code",
   "execution_count": 54,
   "id": "aad1ca53",
   "metadata": {},
   "outputs": [
    {
     "data": {
      "text/plain": [
       "{5: 1, 11: 0.9908673886137246, 10: 0.9903751369442766}"
      ]
     },
     "execution_count": 54,
     "metadata": {},
     "output_type": "execute_result"
    }
   ],
   "source": [
    "rs.top_k()"
   ]
  },
  {
   "cell_type": "code",
   "execution_count": 55,
   "id": "5860854d",
   "metadata": {},
   "outputs": [
    {
     "name": "stdout",
     "output_type": "stream",
     "text": [
      "{'userId': 11, 'Toy Story (1995)': 3, 'Grumpier Old Men (1995)': 2, 'Heat (1995)': 2, 'Seven (a.k.a. Se7en) (1995)': 4, 'Usual Suspects, The (1995)': 4, 'Forrest Gump (1994)': 3, 'Star Wars (1977)': 1}\n",
      "{'userId': 10, 'Toy Story (1995)': 4, 'Grumpier Old Men (1995)': 2, 'Heat (1995)': -1, 'Seven (a.k.a. Se7en) (1995)': 2, 'Usual Suspects, The (1995)': 3, 'Forrest Gump (1994)': 4, 'Star Wars (1977)': -1}\n"
     ]
    },
    {
     "data": {
      "text/plain": [
       "3.000248456038621"
      ]
     },
     "execution_count": 55,
     "metadata": {},
     "output_type": "execute_result"
    }
   ],
   "source": [
    "rs.predict_rating(\"Seven (a.k.a. Se7en) (1995)\")"
   ]
  },
  {
   "cell_type": "code",
   "execution_count": 61,
   "id": "d0a32389",
   "metadata": {},
   "outputs": [],
   "source": [
    "res = RecSys(4,data,\"Usual Suspects, The (1995)\",\"Item\")"
   ]
  },
  {
   "cell_type": "code",
   "execution_count": 62,
   "id": "1613aede",
   "metadata": {},
   "outputs": [
    {
     "data": {
      "text/plain": [
       "{'Toy Story (1995)': 0.9223780407186633,\n",
       " 'Heat (1995)': 0.8838834764831843,\n",
       " 'Grumpier Old Men (1995)': 0.8639153069476767,\n",
       " 'Forrest Gump (1994)': 0.8366451529746755}"
      ]
     },
     "execution_count": 62,
     "metadata": {},
     "output_type": "execute_result"
    }
   ],
   "source": [
    "res.top_k()"
   ]
  },
  {
   "cell_type": "code",
   "execution_count": 63,
   "id": "bb1b7025",
   "metadata": {
    "scrolled": true
   },
   "outputs": [
    {
     "name": "stdout",
     "output_type": "stream",
     "text": [
      "Toy Story (1995) 0.9223780407186633\n",
      "Heat (1995) 0.8838834764831843\n",
      "Grumpier Old Men (1995) 0.8639153069476767\n",
      "Forrest Gump (1994) 0.8366451529746755\n",
      "{0.9223780407186633: 4, 0.8838834764831843: 2, 0.8639153069476767: 2}\n"
     ]
    },
    {
     "data": {
      "text/plain": [
       "2.6908741266694567"
      ]
     },
     "execution_count": 63,
     "metadata": {},
     "output_type": "execute_result"
    }
   ],
   "source": [
    "res.predict_rating(2)"
   ]
  }
 ],
 "metadata": {
  "kernelspec": {
   "display_name": "Python 3 (ipykernel)",
   "language": "python",
   "name": "python3"
  },
  "language_info": {
   "codemirror_mode": {
    "name": "ipython",
    "version": 3
   },
   "file_extension": ".py",
   "mimetype": "text/x-python",
   "name": "python",
   "nbconvert_exporter": "python",
   "pygments_lexer": "ipython3",
   "version": "3.9.13"
  }
 },
 "nbformat": 4,
 "nbformat_minor": 5
}
