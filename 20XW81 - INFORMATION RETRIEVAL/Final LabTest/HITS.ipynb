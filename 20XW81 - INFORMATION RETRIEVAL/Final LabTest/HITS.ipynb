{
 "cells": [
  {
   "cell_type": "code",
   "execution_count": 1,
   "id": "d9ad5076",
   "metadata": {},
   "outputs": [],
   "source": [
    "import numpy as np"
   ]
  },
  {
   "cell_type": "code",
   "execution_count": 2,
   "id": "bb6f8608",
   "metadata": {},
   "outputs": [],
   "source": [
    " arr = [ [1,0,0,1],\n",
    "         [0,0,1,0],\n",
    "         [0,1,0,1],\n",
    "         [0,0,1,1]\n",
    "         ]"
   ]
  },
  {
   "cell_type": "code",
   "execution_count": 11,
   "id": "118e77a3",
   "metadata": {},
   "outputs": [],
   "source": [
    "A = np.array(arr)"
   ]
  },
  {
   "cell_type": "code",
   "execution_count": 12,
   "id": "65a85fb5",
   "metadata": {},
   "outputs": [],
   "source": [
    "a = [1,1,1,1]\n",
    "b = [1,1,1,1]"
   ]
  },
  {
   "cell_type": "code",
   "execution_count": 13,
   "id": "3cfbfc12",
   "metadata": {},
   "outputs": [],
   "source": [
    "def calculateHitsUsingIter(a0,h0,arr):\n",
    "    itr = 1\n",
    "    hi = np.dot(arr, a0)\n",
    "    ai = np.dot(arr.T, h0)\n",
    "    hi = np.divide(hi, sum(hi))\n",
    "    ai = np.divide(ai, sum(ai))\n",
    "    max_iters = 100000\n",
    "    \n",
    "    while itr<max_iters:\n",
    "        h0 = hi\n",
    "        a0 = ai\n",
    "        hi = np.dot(arr, a0)\n",
    "        ai = np.dot(arr.T, h0)\n",
    "        hi = np.divide(hi, sum(hi))\n",
    "        ai = np.divide(ai, sum(ai))\n",
    "        itr += 1\n",
    "\n",
    "        if np.allclose(h0, hi) and np.allclose(a0, ai):\n",
    "            break\n",
    "    \n",
    "    print(f\"Convergence at iteration: {itr}\")\n",
    "    return { \"Authority\": ai, \"Hub\": hi } "
   ]
  },
  {
   "cell_type": "code",
   "execution_count": 15,
   "id": "0297117b",
   "metadata": {},
   "outputs": [
    {
     "name": "stdout",
     "output_type": "stream",
     "text": [
      "Convergence at iteration: 26\n"
     ]
    },
    {
     "data": {
      "text/plain": [
       "{'Authority': array([0.15179701, 0.15179701, 0.22357213, 0.47283384]),\n",
       " 'Hub': array([0.28794852, 0.10306557, 0.28794852, 0.32103738])}"
      ]
     },
     "execution_count": 15,
     "metadata": {},
     "output_type": "execute_result"
    }
   ],
   "source": [
    "calculateHitsUsingIter(a,b,A)"
   ]
  }
 ],
 "metadata": {
  "kernelspec": {
   "display_name": "Python 3 (ipykernel)",
   "language": "python",
   "name": "python3"
  },
  "language_info": {
   "codemirror_mode": {
    "name": "ipython",
    "version": 3
   },
   "file_extension": ".py",
   "mimetype": "text/x-python",
   "name": "python",
   "nbconvert_exporter": "python",
   "pygments_lexer": "ipython3",
   "version": "3.9.13"
  }
 },
 "nbformat": 4,
 "nbformat_minor": 5
}
