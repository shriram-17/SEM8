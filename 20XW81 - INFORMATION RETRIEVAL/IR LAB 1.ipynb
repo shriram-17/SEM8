{
 "cells": [
  {
   "cell_type": "code",
   "execution_count": 13,
   "id": "c47c013d",
   "metadata": {},
   "outputs": [
    {
     "name": "stdout",
     "output_type": "stream",
     "text": [
      "Defaulting to user installation because normal site-packages is not writeable\n",
      "Requirement already satisfied: requests in c:\\programdata\\anaconda3\\lib\\site-packages (2.31.0)\n",
      "Requirement already satisfied: charset-normalizer<4,>=2 in c:\\programdata\\anaconda3\\lib\\site-packages (from requests) (2.0.4)\n",
      "Requirement already satisfied: idna<4,>=2.5 in c:\\programdata\\anaconda3\\lib\\site-packages (from requests) (3.4)\n",
      "Requirement already satisfied: urllib3<3,>=1.21.1 in c:\\programdata\\anaconda3\\lib\\site-packages (from requests) (1.26.16)\n",
      "Requirement already satisfied: certifi>=2017.4.17 in c:\\programdata\\anaconda3\\lib\\site-packages (from requests) (2023.7.22)\n",
      "Defaulting to user installation because normal site-packages is not writeable\n",
      "Requirement already satisfied: lxml in c:\\programdata\\anaconda3\\lib\\site-packages (4.9.3)\n"
     ]
    }
   ],
   "source": [
    "!pip install requests\n",
    "!pip install lxml"
   ]
  },
  {
   "cell_type": "code",
   "execution_count": 16,
   "id": "1f08b751",
   "metadata": {},
   "outputs": [],
   "source": [
    "import requests as request\n",
    "import lxml.html as lx"
   ]
  },
  {
   "cell_type": "code",
   "execution_count": 81,
   "id": "ac263063",
   "metadata": {},
   "outputs": [],
   "source": [
    "response =request.get(\"https://en.wikipedia.org/wiki/Wilhelm_R%C3%B6ntgen\")\n",
    "docContent = lx.fromstring(response.content)\n",
    "xpathCompete = docContent.xpath(\"/html/body/div[2]/div/div[3]/main/div[3]/div[3]/div[1]/table[1]\")[0]\n",
    "xpathtitle = xpathCompete.xpath(\"/html/body/div[2]/div/div[3]/main/div[3]/div[3]/div[1]/table[1]/tbody/tr[3]/td/div[1]\")\n",
    "xpathsubject = xpathCompete.xpath(\"/html/body/div[2]/div/div[3]/main/div[3]/div[3]/div[1]/table[1]/tbody/tr[11]/td/div/ul/li[1]/a\")"
   ]
  },
  {
   "cell_type": "code",
   "execution_count": 82,
   "id": "94a18cdc",
   "metadata": {},
   "outputs": [],
   "source": [
    "xpathyear = xpathCompete.xpath(\"/html/body/div[2]/div/div[3]/main/div[3]/div[3]/div[1]/ul[1]/li[4]/text()\")"
   ]
  },
  {
   "cell_type": "code",
   "execution_count": 84,
   "id": "16fc5460",
   "metadata": {},
   "outputs": [
    {
     "name": "stdout",
     "output_type": "stream",
     "text": [
      "Wilhelm Conrad Röntgen\n",
      "Physics\n",
      "1901\n"
     ]
    }
   ],
   "source": [
    "print(xpathtitle[0].text_content())\n",
    "print(xpathsubject[0].text_content())\n",
    "year = str(xpathyear[0])\n",
    "print(year[2:6])"
   ]
  },
  {
   "cell_type": "code",
   "execution_count": null,
   "id": "ec6e3bbf",
   "metadata": {},
   "outputs": [],
   "source": []
  }
 ],
 "metadata": {
  "kernelspec": {
   "display_name": "Python 3 (ipykernel)",
   "language": "python",
   "name": "python3"
  },
  "language_info": {
   "codemirror_mode": {
    "name": "ipython",
    "version": 3
   },
   "file_extension": ".py",
   "mimetype": "text/x-python",
   "name": "python",
   "nbconvert_exporter": "python",
   "pygments_lexer": "ipython3",
   "version": "3.11.5"
  }
 },
 "nbformat": 4,
 "nbformat_minor": 5
}
